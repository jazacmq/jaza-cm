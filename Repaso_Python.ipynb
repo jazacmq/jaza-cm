{
  "nbformat": 4,
  "nbformat_minor": 0,
  "metadata": {
    "colab": {
      "provenance": [],
      "include_colab_link": true
    },
    "kernelspec": {
      "name": "python3",
      "display_name": "Python 3"
    },
    "language_info": {
      "name": "python"
    }
  },
  "cells": [
    {
      "cell_type": "markdown",
      "metadata": {
        "id": "view-in-github",
        "colab_type": "text"
      },
      "source": [
        "<a href=\"https://colab.research.google.com/github/jazacmq/jaza-cm/blob/main/Repaso_Python.ipynb\" target=\"_parent\"><img src=\"https://colab.research.google.com/assets/colab-badge.svg\" alt=\"Open In Colab\"/></a>"
      ]
    },
    {
      "cell_type": "markdown",
      "source": [
        "# Python para Ciencia de Datos\n",
        "Este pequeño repaso de python contiene lo básico necesario para completar el curso de Ciencia de Datos"
      ],
      "metadata": {
        "id": "Gp8OFPtcuHe8"
      }
    },
    {
      "cell_type": "markdown",
      "source": [
        "## Tipos de datos y variables\n",
        "\n",
        "Existen distintos tipos de datos en Python\n",
        "\n",
        " - int (Enteros)\n",
        " - float (Flotantes o reales)\n",
        " - string (Cadenas)\n",
        " - bool (Booleanos)\n"
      ],
      "metadata": {
        "id": "2FxlARtIOexX"
      }
    },
    {
      "cell_type": "code",
      "source": [
        "a = \"5\" #Esto es una cadena\n",
        "b = 5 #Esto es un entero"
      ],
      "metadata": {
        "id": "nR1vrM8TWgb3"
      },
      "execution_count": null,
      "outputs": []
    },
    {
      "cell_type": "code",
      "source": [
        "print(\"Tipo de a \", type(a))\n",
        "print(\"Tipo de b \", type(b))"
      ],
      "metadata": {
        "colab": {
          "base_uri": "https://localhost:8080/"
        },
        "id": "AXbAhur5Xppj",
        "outputId": "78f4e016-f0d5-4778-a16c-a5d5658170b8"
      },
      "execution_count": null,
      "outputs": [
        {
          "output_type": "stream",
          "name": "stdout",
          "text": [
            "Tipo de a  <class 'str'>\n",
            "Tipo de b  <class 'int'>\n"
          ]
        }
      ]
    },
    {
      "cell_type": "code",
      "source": [
        "float(5.9999999) #Recordemos que el tipo entero redonde hacia abajo"
      ],
      "metadata": {
        "colab": {
          "base_uri": "https://localhost:8080/"
        },
        "id": "5L4dfNctZCIx",
        "outputId": "b4ee88e3-681d-42fb-d7d9-1bffe83488b4"
      },
      "execution_count": null,
      "outputs": [
        {
          "output_type": "execute_result",
          "data": {
            "text/plain": [
              "5"
            ]
          },
          "metadata": {},
          "execution_count": 30
        }
      ]
    },
    {
      "cell_type": "code",
      "source": [
        "print(a)\n",
        "print(type(a))\n",
        "a = float(a) #Pasamos de tipo cadena a tipo de dato a flotante\n",
        "print(a)\n",
        "print(type(a))\n",
        "a = str(a) # Pasamos de tipo flotante a tipo a cadena\n",
        "print(a)\n",
        "print(type(a)) # Si intentamos pasar de flotante a string pueden haber errores"
      ],
      "metadata": {
        "colab": {
          "base_uri": "https://localhost:8080/"
        },
        "id": "cJmtAmCuW9Gl",
        "outputId": "93900aab-17d1-4985-afe6-34743b6d7c65"
      },
      "execution_count": null,
      "outputs": [
        {
          "output_type": "stream",
          "name": "stdout",
          "text": [
            "5\n",
            "<class 'str'>\n",
            "5.0\n",
            "<class 'float'>\n",
            "5.0\n",
            "<class 'str'>\n"
          ]
        }
      ]
    },
    {
      "cell_type": "code",
      "source": [
        "a = 5 #Entero\n",
        "a = int(a) # Pasar un tipo de dato a entero\n",
        "a == b  #Podemos comparar datos correctamente solo si son del mismo tipo"
      ],
      "metadata": {
        "id": "5qmVxZynWtTw"
      },
      "execution_count": null,
      "outputs": []
    },
    {
      "cell_type": "markdown",
      "source": [
        "## Operadores"
      ],
      "metadata": {
        "id": "nERl0apNZgZF"
      }
    },
    {
      "cell_type": "code",
      "source": [
        "a = 5\n",
        "b = 8"
      ],
      "metadata": {
        "id": "dsH1OXjxZqNy"
      },
      "execution_count": null,
      "outputs": []
    },
    {
      "cell_type": "code",
      "source": [
        "print(a + b)\n",
        "print(a - b)\n",
        "print(a * b)\n",
        "print(a / b)\n",
        "\n",
        "print(\"Modulo:\", a, b, b % a) #(MODULO) Es el RESIDUO de la división\n",
        "print(f\"Modulo: {a} {b} {b % a}\") #f-string"
      ],
      "metadata": {
        "colab": {
          "base_uri": "https://localhost:8080/"
        },
        "id": "884qZrz2ZeG6",
        "outputId": "791ad89f-b5c7-48ac-f403-c0a1176725ca"
      },
      "execution_count": null,
      "outputs": [
        {
          "output_type": "stream",
          "name": "stdout",
          "text": [
            "13\n",
            "-3\n",
            "40\n",
            "0.625\n",
            "Modulo: 5 8 3\n",
            "Modulo: 5 8 3\n"
          ]
        }
      ]
    },
    {
      "cell_type": "markdown",
      "source": [
        "## Estructuras de datos\n",
        "Existen diferentes estructuras de datos que son útiles a la hora de trabajar con Python como son:\n",
        "* Listas\n",
        "* Tuplas\n",
        "* Diccionarios (Hash Maps) ó (Hash Tables)\n",
        "* Conjuntos"
      ],
      "metadata": {
        "id": "9GtfdKoEucba"
      }
    },
    {
      "cell_type": "markdown",
      "source": [
        "### [ Listas ]\n",
        "Una lista es una colección de datos en donde **si** importa el orden de los elementos. Además, los elementos en una lista pueden ser de diferentes tipos. Es decir, puedes tener una lista que contenga enteros y cadenas al mismo tiempo.\n",
        "\n",
        "Se puede acceder a sus elementos por índice y puede tener elementos repetidos.\n",
        "\n",
        "Mas info: https://docs.python.org/3/tutorial/datastructures.html#"
      ],
      "metadata": {
        "id": "W8tkbTgSuz0y"
      }
    },
    {
      "cell_type": "code",
      "source": [
        "l = [12, \"Hola\", [7, 8.2, 9, 8, 52]] # Creamos una lista de 3 elementos"
      ],
      "metadata": {
        "id": "R4_MAKRqbYw-"
      },
      "execution_count": null,
      "outputs": []
    },
    {
      "cell_type": "code",
      "source": [
        "l[2][0] # Entramos al primer elemento de la\n",
        "        # sub lista contenida en la 3era posición de la lista principal"
      ],
      "metadata": {
        "colab": {
          "base_uri": "https://localhost:8080/"
        },
        "id": "tKAXzWwgdOsH",
        "outputId": "66575b1b-ae3f-4f5b-c196-55b56e14b809"
      },
      "execution_count": null,
      "outputs": [
        {
          "output_type": "execute_result",
          "data": {
            "text/plain": [
              "7"
            ]
          },
          "metadata": {},
          "execution_count": 58
        }
      ]
    },
    {
      "cell_type": "code",
      "source": [
        "m = l[2]  #Así podemos asignar variables de valores por índice\n",
        "m"
      ],
      "metadata": {
        "colab": {
          "base_uri": "https://localhost:8080/"
        },
        "id": "xXWqNHXLc3A4",
        "outputId": "40c9abc9-9946-4847-e583-4ea5aa0f597c"
      },
      "execution_count": null,
      "outputs": [
        {
          "output_type": "execute_result",
          "data": {
            "text/plain": [
              "[7, 8.2, 9, 8, 52]"
            ]
          },
          "metadata": {},
          "execution_count": 56
        }
      ]
    },
    {
      "cell_type": "code",
      "source": [
        "m[0]"
      ],
      "metadata": {
        "colab": {
          "base_uri": "https://localhost:8080/"
        },
        "id": "gHJN9XtedMqN",
        "outputId": "e7628dbb-da5b-4d36-c33d-df931191852b"
      },
      "execution_count": null,
      "outputs": [
        {
          "output_type": "execute_result",
          "data": {
            "text/plain": [
              "7"
            ]
          },
          "metadata": {},
          "execution_count": 57
        }
      ]
    },
    {
      "cell_type": "code",
      "source": [
        "len(l) # Tamaño de una lista\n",
        "l[-1] #Último elemento de la lista\n",
        "l[0] #Primer elemento de la lista"
      ],
      "metadata": {
        "colab": {
          "base_uri": "https://localhost:8080/"
        },
        "id": "n5CWJ0pQbjnE",
        "outputId": "9108e602-c731-40d3-f988-a8ebc930d264"
      },
      "execution_count": null,
      "outputs": [
        {
          "output_type": "execute_result",
          "data": {
            "text/plain": [
              "[7, 8.2, 9, 8, 52]"
            ]
          },
          "metadata": {},
          "execution_count": 51
        }
      ]
    },
    {
      "cell_type": "code",
      "source": [
        "l = [12, \"Hola\", [7, 8.2, 9, 8, 52], 12, 12] # Generamos una nueva lista"
      ],
      "metadata": {
        "id": "9TRvOpbdeWez"
      },
      "execution_count": null,
      "outputs": []
    },
    {
      "cell_type": "code",
      "source": [
        "l"
      ],
      "metadata": {
        "colab": {
          "base_uri": "https://localhost:8080/"
        },
        "id": "Bjx62wNoe3tn",
        "outputId": "3538eead-93da-4a80-a879-af0f054b191c"
      },
      "execution_count": null,
      "outputs": [
        {
          "output_type": "execute_result",
          "data": {
            "text/plain": [
              "['Hola', [7, 8.2, 9, 8, 52], 12]"
            ]
          },
          "metadata": {},
          "execution_count": 87
        }
      ]
    },
    {
      "cell_type": "code",
      "source": [
        "l[1].pop(0) #Pop elimina valores dado un índice"
      ],
      "metadata": {
        "colab": {
          "base_uri": "https://localhost:8080/"
        },
        "id": "3ARJLzM6dm0n",
        "outputId": "c5d9d2fc-e052-4e1c-9f28-2021c8928353"
      },
      "execution_count": null,
      "outputs": [
        {
          "output_type": "execute_result",
          "data": {
            "text/plain": [
              "7"
            ]
          },
          "metadata": {},
          "execution_count": 89
        }
      ]
    },
    {
      "cell_type": "code",
      "source": [
        "l"
      ],
      "metadata": {
        "colab": {
          "base_uri": "https://localhost:8080/"
        },
        "id": "SJfnKtiofTcj",
        "outputId": "2a5922a0-74d1-4c69-9d42-a544cf80e67b"
      },
      "execution_count": null,
      "outputs": [
        {
          "output_type": "execute_result",
          "data": {
            "text/plain": [
              "['Hola', [8.2, 9, 8, 52], 12]"
            ]
          },
          "metadata": {},
          "execution_count": 90
        }
      ]
    },
    {
      "cell_type": "code",
      "source": [
        "n = l[0:2] #Hacemos una rebanada o slice\n",
        "#l[1:3]\n",
        "n"
      ],
      "metadata": {
        "colab": {
          "base_uri": "https://localhost:8080/"
        },
        "id": "dvn4UrHpdeFs",
        "outputId": "9fbfec36-c852-43db-c6c5-5a47416ade29"
      },
      "execution_count": null,
      "outputs": [
        {
          "output_type": "execute_result",
          "data": {
            "text/plain": [
              "[12, 'Hola']"
            ]
          },
          "metadata": {},
          "execution_count": 64
        }
      ]
    },
    {
      "cell_type": "code",
      "source": [
        "lista = [1, \"Gato\", [], [2, \"X\"], 7]       # Para crear una lista se utilizan corchetes []\n",
        "\n",
        "# Para acceder a algún elemento de la lista, basta con llamar el índice de la misma\n",
        "\n",
        "print(\"El 1er elemento de la lista es : \", lista[0])\n",
        "print(\"El 3er elemento de la lista es : \", lista[2])\n",
        "\n",
        "# Para acceder a \"X\", se necesita acceder al 4to elemento de la lista original y posteriormente al 2do elemento\n",
        "print(\"Así se puede acceder a la X : \", lista[3][1])\n",
        "\n",
        "lista.append(3)                         # Se pueden añadír elementos al final de la lista con el método append\n",
        "lista.append(7)\n",
        "print(\"Se agrega 3 al final : \", lista)\n",
        "lista[0] = \"Nuevo\"                      # Se puede añadír y modificar un elemento de la lista especificando su posición\n",
        "print(\"Cambiamos el 1er elemento por Nuevo : \", lista)\n",
        "\n",
        "\n",
        "lista.remove(7)                            # Se elimina el primer elemento que se encuentre con remove\n",
        "print(\"Lista sin 7 : \", lista)\n",
        "lista.pop(2)                            # Se elimina el elemento en el índice dado con pop\n",
        "print(\"Lista sin tercer elemento : \", lista)\n"
      ],
      "metadata": {
        "colab": {
          "base_uri": "https://localhost:8080/"
        },
        "id": "lG22H0HLuVf_",
        "outputId": "611d7af2-deaf-4355-dd54-6fed24c8f27d"
      },
      "execution_count": null,
      "outputs": [
        {
          "output_type": "stream",
          "name": "stdout",
          "text": [
            "El 1er elemento de la lista es :  1\n",
            "El 3er elemento de la lista es :  []\n",
            "Así se puede acceder a la X :  X\n",
            "Se agrega 3 al final :  [1, 'Gato', [], [2, 'X'], 7, 3, 7]\n",
            "Cambiamos el 1er elemento por Nuevo :  ['Nuevo', 'Gato', [], [2, 'X'], 7, 3, 7]\n",
            "Lista sin 7 :  ['Nuevo', 'Gato', [], [2, 'X'], 3, 7]\n",
            "Lista sin tercer elemento :  ['Nuevo', 'Gato', [2, 'X'], 3, 7]\n"
          ]
        }
      ]
    },
    {
      "cell_type": "markdown",
      "source": [
        "### ( Tuplas )\n",
        "Una tupla es una colección de datos en donde **si** importa el orden de los elementos. Además, los elementos en una lista pueden ser de diferentes tipos. Sin embargo, a diferencia de las listas, las tuplas no pueden alterarse. Es decir, no pueden agregar ni quitar objetos una vez que la tupla fue creada\n",
        "\n",
        "Mas info: https://docs.python.org/3/tutorial/datastructures.html#tuples-and-sequences"
      ],
      "metadata": {
        "id": "sp-9ZdFLzVCC"
      }
    },
    {
      "cell_type": "code",
      "source": [
        "tupla = (1, \"Gato\", [], [2, \"X\"], 7)       # Para crear una tupla se utilizan paréntesis ( )\n",
        "\n",
        "# Para acceder a algún elemento de la tupla, basta con llamar el índice de la misma\n",
        "\n",
        "print(\"El 1er elemento de la tupla es : \", tupla[0])"
      ],
      "metadata": {
        "colab": {
          "base_uri": "https://localhost:8080/"
        },
        "id": "usnpVRAizUp7",
        "outputId": "0148dbc8-48cb-4874-e68c-a83242bbc8b1"
      },
      "execution_count": null,
      "outputs": [
        {
          "output_type": "stream",
          "name": "stdout",
          "text": [
            "El 1er elemento de la tupla es :  1\n"
          ]
        }
      ]
    },
    {
      "cell_type": "markdown",
      "source": [
        "### { : Diccionarios : }\n",
        "Los diccionarios se identifican en algunos leguajes como arrays asociativos. A diferencia de una sequencia, en donde se puede identificar un elemento dado el índice de su posición, los elementos de un diccionario son accesibles a travez de su llave.\n",
        "\n",
        "Es mejor pensar en un diccionario como un par llava-valor con la condición de que cada llave, debe ser única.\n",
        "\n",
        "Mas info: https://docs.python.org/3/tutorial/datastructures.html#dictionaries"
      ],
      "metadata": {
        "id": "RbdFXvGb8mJx"
      }
    },
    {
      "cell_type": "code",
      "source": [
        "diccionario = {\"palabra_esp\" : \"palabra_ingles\",\n",
        "               5 : [\"Datos\"],\n",
        "               \"otro\" : {\"Experimento\" : \"Bernoulli\"}}\n",
        "diccionario"
      ],
      "metadata": {
        "colab": {
          "base_uri": "https://localhost:8080/"
        },
        "id": "77DyxV8Rut6A",
        "outputId": "1a96b0a4-7d31-4af4-9a52-65a1dc360212"
      },
      "execution_count": null,
      "outputs": [
        {
          "output_type": "execute_result",
          "data": {
            "text/plain": [
              "{'palabra_esp': 'palabra_ingles',\n",
              " 5: ['Datos'],\n",
              " 'otro': {'Experimento': 'Bernoulli'}}"
            ]
          },
          "metadata": {},
          "execution_count": 292
        }
      ]
    },
    {
      "cell_type": "code",
      "source": [
        "diccionario[\"palabra_esp\"] = \"palabra_frances\"\n",
        "diccionario"
      ],
      "metadata": {
        "id": "R8ucxTy6ObKe",
        "colab": {
          "base_uri": "https://localhost:8080/"
        },
        "outputId": "dad1355c-d552-482e-bec7-aaef6ad2148a"
      },
      "execution_count": null,
      "outputs": [
        {
          "output_type": "execute_result",
          "data": {
            "text/plain": [
              "{'palabra_esp': 'palabra_frances',\n",
              " 5: ['Datos'],\n",
              " 'otro': {'Experimento': 'Bernoulli'}}"
            ]
          },
          "metadata": {},
          "execution_count": 293
        }
      ]
    },
    {
      "cell_type": "code",
      "source": [
        "diccionario = {  \"LLAVE\" : \"VALOR\",                                           # Para crear un diccionario se utilizan corchetes {} y se asigna una pareja llave-valor a travez de dos puntos :\n",
        "                  \"Otra llave\" : [\"Valor dentro de una lista\"]   }\n",
        "\n",
        "print(\"El diccionario nuevo : \", diccionario)\n",
        "\n",
        "diccionario[\"Nueva llave\"] = 7                                                # Si se quiere agregar un valor nuevo al diccionario se llama explicitamente la llave en el diccionario\n",
        "\n",
        "print(\"El diccionario con nueva llave : \", diccionario)\n",
        "\n",
        "diccionario[\"Nombre\"] = \"Mauricio\"\n",
        "\n",
        "# Para acceder al segundo valor del diccionario, se necesita preguntar por la llave\n",
        "print(\"Así se puede acceder al valor asociado a la llave nombre : \", diccionario[\"Nombre\"])\n"
      ],
      "metadata": {
        "id": "SDJOd93azEbY",
        "colab": {
          "base_uri": "https://localhost:8080/"
        },
        "outputId": "42ba70e3-093a-437e-a2d9-c57b4c63aabf"
      },
      "execution_count": null,
      "outputs": [
        {
          "output_type": "stream",
          "name": "stdout",
          "text": [
            "El diccionario nuevo :  {'LLAVE': 'VALOR', 'Otra llave': ['Valor dentro de una lista']}\n",
            "El diccionario con nueva llave :  {'LLAVE': 'VALOR', 'Otra llave': ['Valor dentro de una lista'], 'Nueva llave': 7}\n",
            "Así se puede acceder al valor asociado a la llave nombre :  Mauricio\n"
          ]
        }
      ]
    },
    {
      "cell_type": "markdown",
      "source": [
        "### {  Conjuntos  }\n",
        "Los conjuntos son similares a los conceptos de conjunto en matemáticas. No pueden tener elementos duplicados, no tienen orden y pueden hacer las operaciónes usuales como union e intersección\n",
        "\n",
        "Mas info: https://docs.python.org/3/tutorial/datastructures.html#sets"
      ],
      "metadata": {
        "id": "yjZZt3JUdjD5"
      }
    },
    {
      "cell_type": "code",
      "source": [
        "conjunto = {\"manzana\", \"papaya\", \"platano\", \"durazno\", \"limon\"}                  # Para crear un conjunto se utilizan corchetes {}\n",
        "print(\"Conjunto principal : \", conjunto)\n",
        "\n",
        "otro_conjunto = {\"limon\", \"pera\"}\n",
        "print(\"Conjunto auxiliar\", otro_conjunto)\n",
        "\n",
        "diferencia = conjunto - otro_conjunto                                            # Diferencia : Elementos que estan en conjunto pero no en otro_conjunto\n",
        "print(\"Diferencia : \", diferencia)\n",
        "\n",
        "union = conjunto | otro_conjunto                                                 # Union : Elementos que estan en conjunto o están en otro_conjunto\n",
        "print(\"Union : \", union)\n",
        "\n",
        "interseccion = conjunto & otro_conjunto                                          # Intersección : Elementos que estan en ambos conjuntos\n",
        "print(\"Intersección : \", interseccion)\n",
        "\n",
        "lista = [1, 2, 3]\n",
        "convertida = set(lista)                                                          # Convertimos una lista en un conjunto\n",
        "print(\"El tipo de objeto que es la lista original : \" , type(lista))\n",
        "print(\"El tipo de objeto que es la lista convertida : \" , type(convertida))\n",
        "convertida = list(convertida)                                                    # Convertimos un conjunto en una lista\n",
        "print(\"El tipo de objeto que es la lista convertida nuevamente : \" , type(convertida))\n"
      ],
      "metadata": {
        "id": "kflTiLAX_R-m",
        "colab": {
          "base_uri": "https://localhost:8080/"
        },
        "outputId": "5f783679-d532-45c2-8390-cc630de271e3"
      },
      "execution_count": null,
      "outputs": [
        {
          "output_type": "stream",
          "name": "stdout",
          "text": [
            "Conjunto principal :  {'papaya', 'platano', 'limon', 'manzana', 'durazno'}\n",
            "Conjunto auxiliar {'limon', 'pera'}\n",
            "Diferencia :  {'platano', 'manzana', 'papaya', 'durazno'}\n",
            "Union :  {'manzana', 'papaya', 'durazno', 'platano', 'limon', 'pera'}\n",
            "Intersección :  {'limon'}\n",
            "El tipo de objeto que es la lista original :  <class 'list'>\n",
            "El tipo de objeto que es la lista convertida :  <class 'set'>\n",
            "El tipo de objeto que es la lista convertida nuevamente :  <class 'list'>\n"
          ]
        }
      ]
    },
    {
      "cell_type": "markdown",
      "source": [
        "### Array\n",
        "\n",
        "La estructura de **array**, o arreglo como normalmente se conoce en otros lenguajes de programación, viene dada por la librería Numpy: https://numpy.org/doc/stable/reference/generated/numpy.array.html\n",
        "Esta presenta mucha similitud con las listas de python."
      ],
      "metadata": {
        "id": "IHLh1VIoxtU9"
      }
    },
    {
      "cell_type": "code",
      "source": [
        "import numpy as np"
      ],
      "metadata": {
        "id": "aUcRIs9Hxsj5"
      },
      "execution_count": null,
      "outputs": []
    },
    {
      "cell_type": "code",
      "source": [
        "print(   np.array([5, 8, \"Ciencia de Datos\"])   ) #Esto NO\n",
        "\n",
        "print(   np.array([5, 8, 9])   ) #Esto SI"
      ],
      "metadata": {
        "colab": {
          "base_uri": "https://localhost:8080/"
        },
        "id": "9Dsd-Yskypq1",
        "outputId": "ed6a9091-9c74-41ff-f119-d75716bbe1a1"
      },
      "execution_count": null,
      "outputs": [
        {
          "output_type": "stream",
          "name": "stdout",
          "text": [
            "['5' '8' 'Ciencia de Datos']\n",
            "[5 8 9]\n"
          ]
        }
      ]
    },
    {
      "cell_type": "code",
      "source": [
        "#Como hacer una matriz\n",
        "a = np.array([[1, 2, 3],\n",
        "             [4, 5, 6],\n",
        "             [7, 8, 9]])\n",
        "\n",
        "a[0][0]"
      ],
      "metadata": {
        "colab": {
          "base_uri": "https://localhost:8080/"
        },
        "id": "z6sM0tCSyHd4",
        "outputId": "74038606-b83c-46c3-ecb9-4a89910d536a"
      },
      "execution_count": null,
      "outputs": [
        {
          "output_type": "execute_result",
          "data": {
            "text/plain": [
              "1"
            ]
          },
          "metadata": {},
          "execution_count": 298
        }
      ]
    },
    {
      "cell_type": "markdown",
      "source": [
        "## Ejercicios de Estructuras de datos"
      ],
      "metadata": {
        "id": "OnZ9RPxXFjhR"
      }
    },
    {
      "cell_type": "markdown",
      "source": [
        "**Ejemplo de pseudocódigo con Fibonacci**"
      ],
      "metadata": {
        "id": "sk4LFI8dcojP"
      }
    },
    {
      "cell_type": "markdown",
      "source": [
        "Para preparar un pastel de cumpleaños, se necesitan los ingredientes del recetario que vienen en la lista: ingredientes_recetario.\n",
        "En casa se cuenta con diferentes ingredientes listados en: ingredientes_en_casa.\n",
        "La tarea consise en encontrar los ingredientes faltantes y encontrar cuánto costaría hacer el pastel si es que compramos los ingredientes faltantes de la tienda. Los costos se encuentran en el diccionario precios_de_tienda.\n",
        "\n",
        "Sigue los siguientes pasos para resolver el problema:\n",
        "\n",
        "\n",
        "1.   Convierte en conjuntos ambas listas\n",
        "\n",
        "2.  Con ayuda de una diferencia entre el recetario y los ingredientes en casa, encuentra los ingredientes faltantes\n",
        "\n",
        "3.  Convierte en una lista los elementos que encontraste\n",
        "\n",
        "4.  Entra a los elementos de la lista utilizando los índices y busca sus precios en el diccionario. No olvides guardar cada precio\n",
        "\n",
        "5.   Suma los precios que encontraste\n",
        "\n"
      ],
      "metadata": {
        "id": "Qus4I2KaFt8q"
      }
    },
    {
      "cell_type": "code",
      "source": [
        "ingredientes_recetario = [\"huevos\", \"leche\", \"harina\", \"levadura\",\n",
        "                          \"mantequilla\", \"chocolate\",]\n",
        "\n",
        "precios_de_tienda = {\"huevos\" : 20,\n",
        "                     \"mantequilla\" : 10,\n",
        "                     \"gansito\" : 8,\n",
        "                     \"harina\" : 10,\n",
        "                     \"levadura\" : 5,\n",
        "                     \"vainilla\" : 10,\n",
        "                     \"chocolate\" : 25}\n",
        "\n",
        "ingredientes_en_casa = [\"leche\", \"manteca\", \"jitomate\", \"manzana\", \"almendras\", \"levadura\", \"huevos\"]"
      ],
      "metadata": {
        "id": "wYGJOEiW8rBr"
      },
      "execution_count": null,
      "outputs": []
    },
    {
      "cell_type": "code",
      "source": [
        "casa = set(ingredientes_en_casa)\n",
        "\n",
        "receta = set(ingredientes_recetario)\n",
        "\n",
        "faltantes = receta - casa\n",
        "\n",
        "faltantes = list(faltantes)\n",
        "print(faltantes)\n",
        "#                        precios_de_tienda[\"chocolate\"] ->  precios_de_tienda[faltantes[0]]\n",
        "c = precios_de_tienda[faltantes[0]]\n",
        "h = precios_de_tienda[faltantes[1]]\n",
        "m = precios_de_tienda[faltantes[2]]\n",
        "\n",
        "c + h + m"
      ],
      "metadata": {
        "colab": {
          "base_uri": "https://localhost:8080/"
        },
        "id": "cUNTWlLh0lXO",
        "outputId": "f032e622-5931-4b08-a8ed-972b388704ad"
      },
      "execution_count": null,
      "outputs": [
        {
          "output_type": "stream",
          "name": "stdout",
          "text": [
            "['chocolate', 'harina', 'mantequilla']\n"
          ]
        },
        {
          "output_type": "execute_result",
          "data": {
            "text/plain": [
              "45"
            ]
          },
          "metadata": {},
          "execution_count": 300
        }
      ]
    },
    {
      "cell_type": "markdown",
      "source": [
        "## Condicionales y ciclos"
      ],
      "metadata": {
        "id": "ir-cK02aZVtW"
      }
    },
    {
      "cell_type": "markdown",
      "source": [
        "### Condicional **If**\n",
        "Se utiliza la palabra reservada **if**, si se requiere que alguna instrucción se ejecute en caso de cierta condición.\n",
        "\n",
        "Esta condición puede ir acompañada de las palabras reservadas **else** o **elif** para ejecutar intrucciones en caso de que la primera no se cumpla, o en caso de cumplir otra condiccion respectivamente.\n",
        "\n",
        "Probemos un ejemplo.\n",
        "Supongamos que queremos saber si el precio de la gasolina aumentó mas del 15% desde ayer. Crearemos un código que dados los precios de gasolina de ayer y hoy, nos dice si el precio cambió mas del 15%"
      ],
      "metadata": {
        "id": "eQ6JRj5nZWYx"
      }
    },
    {
      "cell_type": "code",
      "source": [
        "precio_ayer = 22.5\n",
        "precio_hoy = 30.5\n",
        "\n",
        "condicion = (precio_ayer + precio_ayer * 0.15 < precio_hoy)     # Se crea una condición con valor True o False dependiendo de si supero el 15%\n",
        "\n",
        "print(\"La condición es : \", condicion)"
      ],
      "metadata": {
        "id": "dRO3LLrVNPCq",
        "colab": {
          "base_uri": "https://localhost:8080/"
        },
        "outputId": "ca2db9e4-65dd-4c99-832e-15371e69f37f"
      },
      "execution_count": null,
      "outputs": [
        {
          "output_type": "stream",
          "name": "stdout",
          "text": [
            "La condición es :  True\n"
          ]
        }
      ]
    },
    {
      "cell_type": "code",
      "source": [
        "# Estructura del if\n",
        "\n",
        "if condicion is True:                                           # Se comprueba la condición\n",
        "  print(\"El precio superó el 15%\")                              # Si se cumple la condición anterior, se ejecuta la linea, de lo contrario, no se hace"
      ],
      "metadata": {
        "colab": {
          "base_uri": "https://localhost:8080/"
        },
        "id": "JxNSvk4ZZaGv",
        "outputId": "a65e3898-61a6-4391-a086-bdcb6fc344ec"
      },
      "execution_count": null,
      "outputs": [
        {
          "output_type": "stream",
          "name": "stdout",
          "text": [
            "El precio superó el 15%\n"
          ]
        }
      ]
    },
    {
      "cell_type": "code",
      "source": [
        "# Estructura del if con else:\n",
        "\n",
        "if condicion is False:                                           # Se comprueba la condición\n",
        "  print(\"El precio NO superó el 15%\")                            # Si se cumple la condición anterior, se ejecuta la linea, de lo contrario, no se hace (En este caso, no se hace)\n",
        "else:                                                            # En caso de no haberse ejecutado el o los if anteriores, se ejecuta esta\n",
        "  print(\"El precio superó el 15%\")"
      ],
      "metadata": {
        "colab": {
          "base_uri": "https://localhost:8080/"
        },
        "id": "CFNncDiRZbj-",
        "outputId": "28b5389f-0618-44a5-ebd0-39940486b166"
      },
      "execution_count": null,
      "outputs": [
        {
          "output_type": "stream",
          "name": "stdout",
          "text": [
            "El precio superó el 15%\n"
          ]
        }
      ]
    },
    {
      "cell_type": "code",
      "source": [
        "# Estructura del if con elif:\n",
        "\n",
        "if condicion is True:                                           # Se comprueba la condición\n",
        "  print(\"El precio superó el 15%\")                              # Si se cumple la condición anterior, se ejecuta la linea, de lo contrario, no se hace (En este caso, no se hace)\n",
        "elif condicion == 5:                                            # En caso de que se cumpla esta nueva condicion, esta se ejecuta y se saltará las demas\n",
        "  print(\"Esta linea imprime el 5\")\n",
        "elif condicion == 6:                                            # En caso de que se cumpla esta nueva condicion, esta se ejecuta y se saltará las demas\n",
        "  print(\"Esta linea imprime el 6\")\n",
        "elif condicion is False:                                        # En caso de que se cumpla esta nueva condicion, esta se ejecuta y se saltará las demas\n",
        "  print(\"El precio NO superó el 15%\")\n",
        "else:                                                           # En caso de que se no se haya cumplido ninguna condicion, se ejecuta esta\n",
        "  print(\"Se saltó los bucles anteriores\")"
      ],
      "metadata": {
        "colab": {
          "base_uri": "https://localhost:8080/"
        },
        "id": "OaIuhxxkZeOH",
        "outputId": "7af335e6-bde5-4536-8410-ed7df13d8fb0"
      },
      "execution_count": null,
      "outputs": [
        {
          "output_type": "stream",
          "name": "stdout",
          "text": [
            "El precio superó el 15%\n"
          ]
        }
      ]
    },
    {
      "cell_type": "markdown",
      "source": [
        "Ejemplo práctico: Se construye un menú para una contestadora"
      ],
      "metadata": {
        "id": "xO1KpJhX7CBo"
      }
    },
    {
      "cell_type": "code",
      "source": [
        "# Crearemos un menú interactivo para una contestadora automática en un banco\n",
        "\n",
        "opcion = 3"
      ],
      "metadata": {
        "id": "aBpb4WgBZgnN"
      },
      "execution_count": null,
      "outputs": []
    },
    {
      "cell_type": "code",
      "source": [
        "if opcion == 1:\n",
        "  print(\"Consulta de saldo\")\n",
        "\n",
        "elif opcion == 2:\n",
        "  print(\"Actualizacion de datos personales\")\n",
        "\n",
        "elif opcion == 3:\n",
        "  print(\"Robo o extravío e cuenta\")\n",
        "\n",
        "elif opcion == 4:\n",
        "  print(\"Llame a un operador\")\n",
        "\n",
        "else:\n",
        "  print(\"Opción nno valida, pruebe de nuevo\")\n"
      ],
      "metadata": {
        "colab": {
          "base_uri": "https://localhost:8080/"
        },
        "id": "84Bq5D3-Zhcn",
        "outputId": "0b73bb0d-602e-4171-a022-5b90af1f88ef"
      },
      "execution_count": null,
      "outputs": [
        {
          "output_type": "stream",
          "name": "stdout",
          "text": [
            "Robo o extravío e cuenta\n"
          ]
        }
      ]
    },
    {
      "cell_type": "markdown",
      "source": [
        "### Ciclo **For**\n",
        "Se utiliza la palabra reservada **for**, si se requiere iterar a lo largo de una serie de elementos. Es decir, recorrer uno a uno los elementos de una serie e ir ejecutando una serie de instrucciones para cada elemento."
      ],
      "metadata": {
        "id": "Dwlu7Wl2emHN"
      }
    },
    {
      "cell_type": "code",
      "source": [
        "range(1, 5)\n",
        "1, 2, 3, 4"
      ],
      "metadata": {
        "id": "vPxZ1etUc1Ss",
        "colab": {
          "base_uri": "https://localhost:8080/"
        },
        "outputId": "4e0331b9-33e9-498d-9fac-baa594443e38"
      },
      "execution_count": null,
      "outputs": [
        {
          "output_type": "execute_result",
          "data": {
            "text/plain": [
              "(1, 2, 3, 4)"
            ]
          },
          "metadata": {},
          "execution_count": 307
        }
      ]
    },
    {
      "cell_type": "code",
      "source": [
        "for i in range(1, 5):\n",
        "  print(i)\n"
      ],
      "metadata": {
        "colab": {
          "base_uri": "https://localhost:8080/"
        },
        "id": "1V2pVVnD7fa3",
        "outputId": "ddebc980-50ec-4376-b286-6dbfaa536ab1"
      },
      "execution_count": null,
      "outputs": [
        {
          "output_type": "stream",
          "name": "stdout",
          "text": [
            "1\n",
            "2\n",
            "3\n",
            "4\n"
          ]
        }
      ]
    },
    {
      "cell_type": "code",
      "source": [
        "lista = [1, \"Gato\", 7, 8 , [], \"Perro\", \"Gato\"]"
      ],
      "metadata": {
        "id": "s-nWnzZg7izC"
      },
      "execution_count": null,
      "outputs": []
    },
    {
      "cell_type": "code",
      "source": [
        "len(lista)"
      ],
      "metadata": {
        "colab": {
          "base_uri": "https://localhost:8080/"
        },
        "id": "S1THs4cI9Xzy",
        "outputId": "940ef4fb-3e9e-4a09-80d8-6c809e3c71a6"
      },
      "execution_count": null,
      "outputs": [
        {
          "output_type": "execute_result",
          "data": {
            "text/plain": [
              "7"
            ]
          },
          "metadata": {},
          "execution_count": 310
        }
      ]
    },
    {
      "cell_type": "code",
      "source": [
        "#Encontrando el índice de un elemento en una lista\n",
        "\n",
        "for i in range(len(lista)):\n",
        "\n",
        "  if lista[i] == \"Gato\":\n",
        "    print(\"La palabra se encuentra en la posición : \", i)\n",
        "  else:\n",
        "    print(\"Gato no está en la posición \", i)\n"
      ],
      "metadata": {
        "colab": {
          "base_uri": "https://localhost:8080/"
        },
        "id": "f9Z-g_iD7sMg",
        "outputId": "212c608f-78cd-4f09-f33f-14802ec3ea52"
      },
      "execution_count": null,
      "outputs": [
        {
          "output_type": "stream",
          "name": "stdout",
          "text": [
            "Gato no está en la posición  0\n",
            "La palabra se encuentra en la posición :  1\n",
            "Gato no está en la posición  2\n",
            "Gato no está en la posición  3\n",
            "Gato no está en la posición  4\n",
            "Gato no está en la posición  5\n",
            "La palabra se encuentra en la posición :  6\n"
          ]
        }
      ]
    },
    {
      "cell_type": "markdown",
      "source": [
        "### Ciclo **While**\n",
        "\n",
        "While es una palabra reservada que se utiliza para crear un ciclo infinito hasta que se cumpla cierta condición"
      ],
      "metadata": {
        "id": "dtt-8xwy-GvF"
      }
    },
    {
      "cell_type": "code",
      "source": [
        "numero = 10\n",
        "\n",
        "while numero < 20:\n",
        "  print(\"El numero \", numero, \" es menor a 20\")\n",
        "  numero = numero + 1\n",
        "\n",
        "print(\"El último número en memoria es : \", numero)"
      ],
      "metadata": {
        "colab": {
          "base_uri": "https://localhost:8080/"
        },
        "id": "Qh4xYqYM9vEF",
        "outputId": "7ccca86e-50fe-45cc-e555-f5fd8f8c2e18"
      },
      "execution_count": null,
      "outputs": [
        {
          "output_type": "stream",
          "name": "stdout",
          "text": [
            "El numero  10  es menor a 20\n",
            "El numero  11  es menor a 20\n",
            "El numero  12  es menor a 20\n",
            "El numero  13  es menor a 20\n",
            "El numero  14  es menor a 20\n",
            "El numero  15  es menor a 20\n",
            "El numero  16  es menor a 20\n",
            "El numero  17  es menor a 20\n",
            "El numero  18  es menor a 20\n",
            "El numero  19  es menor a 20\n",
            "El último número en memoria es :  20\n"
          ]
        }
      ]
    },
    {
      "cell_type": "code",
      "source": [
        "#Crea un programa que encuentre los primeros 10 números pares\n",
        "\n",
        "pares = []\n",
        "inicio = 1\n",
        "\n",
        "while len(pares) < 10:\n",
        "\n",
        "  if (inicio % 2) == 0:\n",
        "    pares.append(inicio)\n",
        "    print(\"El numero \", inicio, \" es par\")\n",
        "\n",
        "  inicio = inicio + 1\n",
        "\n",
        "print(pares)"
      ],
      "metadata": {
        "colab": {
          "base_uri": "https://localhost:8080/"
        },
        "id": "x930o3JE-anY",
        "outputId": "861ff971-9240-44dd-b827-736001f56652"
      },
      "execution_count": null,
      "outputs": [
        {
          "output_type": "stream",
          "name": "stdout",
          "text": [
            "El numero  2  es par\n",
            "El numero  4  es par\n",
            "El numero  6  es par\n",
            "El numero  8  es par\n",
            "El numero  10  es par\n",
            "El numero  12  es par\n",
            "El numero  14  es par\n",
            "El numero  16  es par\n",
            "El numero  18  es par\n",
            "El numero  20  es par\n",
            "[2, 4, 6, 8, 10, 12, 14, 16, 18, 20]\n"
          ]
        }
      ]
    },
    {
      "cell_type": "markdown",
      "source": [
        "## Ejercicio de ciclos y condicionales\n",
        "\n",
        "Se creó una lista de números consecutivos del 0 al 50.\n",
        "Encuentra en dónde existen números equivocados, guarda en una lista los números que están equivocados y en otra los que están correctos. Cambia también los números equivocados por los correctos en la lista original\n"
      ],
      "metadata": {
        "id": "TCK-ztDsOYd2"
      }
    },
    {
      "cell_type": "code",
      "source": [
        "lista_mala =        [0, 1, 2, 3, 4, 5, 6, 7, 8, 9, 10,\n",
        "                     11, 12, 13, 14, 15, 16, 17, 18, 19, 20,\n",
        "                     21, 22, 23, 24, 25, 25, 27, 28, 29, 30,\n",
        "                     31, 32, 32, 34, 35, 36, 37, 31, 39, 40,\n",
        "                     41, 42, 43, 44, 45, 46, 47, 48, 49, 50,\n",
        "                     51, 52, 55]"
      ],
      "metadata": {
        "id": "jL8GX96mCqnp"
      },
      "execution_count": null,
      "outputs": []
    },
    {
      "cell_type": "code",
      "source": [
        "contador = 0\n",
        "equivocados = []\n",
        "aciertos = []\n",
        "\n",
        "for i in range(len(lista_mala)):\n",
        "\n",
        "  if contador != lista_mala[i]:\n",
        "    equivocados.append(lista_mala[i])\n",
        "    lista_mala[i] = contador\n",
        "\n",
        "  else:\n",
        "    aciertos.append(lista_mala[i])\n",
        "\n",
        "  contador = contador + 1\n"
      ],
      "metadata": {
        "id": "iwR6FZ6RWG30"
      },
      "execution_count": null,
      "outputs": []
    },
    {
      "cell_type": "markdown",
      "source": [
        "## Funciones y Clases"
      ],
      "metadata": {
        "id": "Kr5iKaIrbrQF"
      }
    },
    {
      "cell_type": "markdown",
      "source": [
        "### Funciones\n",
        "\n",
        "Una funcion son una serie de instrucciones"
      ],
      "metadata": {
        "id": "AJuMNHEYcNwK"
      }
    },
    {
      "cell_type": "code",
      "source": [
        "#Función sin parámetros ni retorno\n",
        "\n",
        "def funcion_di_hola():\n",
        "  print(\"Hola\")\n",
        "  print(\"Adios\")\n"
      ],
      "metadata": {
        "id": "VpQ7sce2bRvA"
      },
      "execution_count": null,
      "outputs": []
    },
    {
      "cell_type": "code",
      "source": [
        "#Funcion con parámetros y retorno\n",
        "\n",
        "def funcion_suma_dos_numeros(a, b):\n",
        "  return a + b\n"
      ],
      "metadata": {
        "id": "p26V-lNZcpfX"
      },
      "execution_count": null,
      "outputs": []
    },
    {
      "cell_type": "code",
      "source": [
        "b = \"5\"\n",
        "a = \"8\"\n",
        "\n",
        "funcion_suma_dos_numeros(a, b)"
      ],
      "metadata": {
        "colab": {
          "base_uri": "https://localhost:8080/",
          "height": 36
        },
        "id": "Z4tcx5R1eKfP",
        "outputId": "400bf296-26f9-4e7d-fca3-f1b7ecc81de2"
      },
      "execution_count": null,
      "outputs": [
        {
          "output_type": "execute_result",
          "data": {
            "text/plain": [
              "'85'"
            ],
            "application/vnd.google.colaboratory.intrinsic+json": {
              "type": "string"
            }
          },
          "metadata": {},
          "execution_count": 318
        }
      ]
    },
    {
      "cell_type": "code",
      "source": [
        "#Funcion documentada\n",
        "\n",
        "def suma(int1 : int, int2 : int) -> int:\n",
        "  \"\"\"\n",
        "  Funcion que suma dos números enteros\n",
        "  Args:\n",
        "        int1 (int) : Primer entero a sumar\n",
        "        int2 (int) : Segundo entero a sumar\n",
        "  Output:\n",
        "        int : Entero resultante de la suma de dos números\n",
        "  \"\"\"\n",
        "  return int1 + int2"
      ],
      "metadata": {
        "id": "DqowsKo6cvIy"
      },
      "execution_count": null,
      "outputs": []
    },
    {
      "cell_type": "code",
      "source": [
        "suma(5, 7)"
      ],
      "metadata": {
        "id": "If4Ed_xsdIcl",
        "colab": {
          "base_uri": "https://localhost:8080/"
        },
        "outputId": "a4f43983-f2bb-4953-a1d5-88a4d01b7301"
      },
      "execution_count": null,
      "outputs": [
        {
          "output_type": "execute_result",
          "data": {
            "text/plain": [
              "12"
            ]
          },
          "metadata": {},
          "execution_count": 320
        }
      ]
    },
    {
      "cell_type": "markdown",
      "source": [
        "### Clases\n",
        "\n",
        "Una clase es una forma de empaquetar datos y funcionalidades en un mismo ente. Normalmente hacen referencia a un objeto en la vida real que tiene sus propias propiedades y su propio comportamiento."
      ],
      "metadata": {
        "id": "YnFJlPIEf-Pg"
      }
    },
    {
      "cell_type": "code",
      "source": [
        "class Gato():\n",
        "\n",
        "  def __init__(self, nombre, color):\n",
        "    self.nombre = nombre\n",
        "    self.color = color\n",
        "\n",
        "  def maullar(self):\n",
        "    print(\"Miau\")\n",
        "\n",
        "  def verificar_collar(self):\n",
        "    print(self.nombre, \"se sacude y se muestra su nombre en su placa\")\n",
        "\n",
        "  def comer(self, numero_de_atunes):\n",
        "    print(self.nombre, \"se comió\", numero_de_atunes, \"atunes\")\n"
      ],
      "metadata": {
        "id": "lB7BKE3FiTj1"
      },
      "execution_count": null,
      "outputs": []
    },
    {
      "cell_type": "code",
      "source": [
        "michi = Gato(\"Michi\", \"Blanco\")\n",
        "roberta = Gato(\"Roberta\", \"Negro\")"
      ],
      "metadata": {
        "id": "z1Ay3uMWimxC"
      },
      "execution_count": null,
      "outputs": []
    },
    {
      "cell_type": "code",
      "source": [
        "michi.comer(2)"
      ],
      "metadata": {
        "colab": {
          "base_uri": "https://localhost:8080/"
        },
        "id": "lcmAf7qCixLk",
        "outputId": "05ac36b2-fc62-4389-804e-745f8a6bb3e5"
      },
      "execution_count": null,
      "outputs": [
        {
          "output_type": "stream",
          "name": "stdout",
          "text": [
            "Michi se comió 2 atunes\n"
          ]
        }
      ]
    },
    {
      "cell_type": "code",
      "source": [
        "roberta.comer(7)"
      ],
      "metadata": {
        "colab": {
          "base_uri": "https://localhost:8080/"
        },
        "id": "A0HG-tfpjA_m",
        "outputId": "64b22c68-513e-4538-9e0c-80e4d9155641"
      },
      "execution_count": null,
      "outputs": [
        {
          "output_type": "stream",
          "name": "stdout",
          "text": [
            "Roberta se comió 7 atunes\n"
          ]
        }
      ]
    },
    {
      "cell_type": "code",
      "source": [
        "michi.verificar_collar()"
      ],
      "metadata": {
        "colab": {
          "base_uri": "https://localhost:8080/"
        },
        "id": "g2AX9w4sjOFy",
        "outputId": "06fb7430-8c18-49c1-891f-687c35821c03"
      },
      "execution_count": null,
      "outputs": [
        {
          "output_type": "stream",
          "name": "stdout",
          "text": [
            "Michi se sacude y se muestra su nombre en su placa\n"
          ]
        }
      ]
    },
    {
      "cell_type": "code",
      "source": [
        "roberta.verificar_collar()"
      ],
      "metadata": {
        "colab": {
          "base_uri": "https://localhost:8080/"
        },
        "id": "SQhpvaUkjQ-U",
        "outputId": "949299ed-cb7e-4b10-f5f2-c0542fd79880"
      },
      "execution_count": null,
      "outputs": [
        {
          "output_type": "stream",
          "name": "stdout",
          "text": [
            "Roberta se sacude y se muestra su nombre en su placa\n"
          ]
        }
      ]
    },
    {
      "cell_type": "code",
      "source": [
        "class Perro():\n",
        "\n",
        "  def __init__(self, nombre):\n",
        "    self.nombre = nombre\n",
        "\n",
        "  def ladra(self):\n",
        "    print(\"Guau\")\n",
        "\n",
        "  def patita(self):\n",
        "    print(self.nombre, \"te da la pata\")"
      ],
      "metadata": {
        "id": "Yd93PAgef9xS"
      },
      "execution_count": null,
      "outputs": []
    },
    {
      "cell_type": "code",
      "source": [
        "perro1 = Perro(\"Max\")\n",
        "perro2 = Perro(\"Oden\")"
      ],
      "metadata": {
        "id": "AXjxnmaUdaYt"
      },
      "execution_count": null,
      "outputs": []
    },
    {
      "cell_type": "code",
      "source": [
        "perro1.ladra()"
      ],
      "metadata": {
        "colab": {
          "base_uri": "https://localhost:8080/"
        },
        "id": "CkZhF7-dgeNH",
        "outputId": "bcdfef52-2bc7-4d0c-f4d9-b97a492a1379"
      },
      "execution_count": null,
      "outputs": [
        {
          "output_type": "stream",
          "name": "stdout",
          "text": [
            "Guau\n"
          ]
        }
      ]
    },
    {
      "cell_type": "code",
      "source": [
        "perro2.ladra()"
      ],
      "metadata": {
        "colab": {
          "base_uri": "https://localhost:8080/"
        },
        "id": "8yY5CQ3SgfD7",
        "outputId": "bee02744-a1eb-4ebd-a55e-b795ba17ae22"
      },
      "execution_count": null,
      "outputs": [
        {
          "output_type": "stream",
          "name": "stdout",
          "text": [
            "Guau\n"
          ]
        }
      ]
    },
    {
      "cell_type": "code",
      "source": [
        "perro2.patita()\n"
      ],
      "metadata": {
        "colab": {
          "base_uri": "https://localhost:8080/"
        },
        "id": "E610e77ujiMe",
        "outputId": "84757488-87a7-45a1-fd41-29bc6db47e96"
      },
      "execution_count": null,
      "outputs": [
        {
          "output_type": "stream",
          "name": "stdout",
          "text": [
            "Oden te da la pata\n"
          ]
        }
      ]
    },
    {
      "cell_type": "code",
      "source": [],
      "metadata": {
        "id": "eGJMIbhruaUP"
      },
      "execution_count": null,
      "outputs": []
    }
  ]
}